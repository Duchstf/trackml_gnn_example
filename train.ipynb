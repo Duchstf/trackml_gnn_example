{
 "cells": [
  {
   "cell_type": "code",
   "execution_count": 1,
   "id": "medium-religious",
   "metadata": {},
   "outputs": [],
   "source": [
    "# Rebased here: https://github.com/jmduarte/pytorch_geometric/blob/add-trackml-to-dataset/torch_geometric/datasets/particle.py\n",
    "from particle import TrackMLParticleTrackingDataset\n",
    "import multiprocessing as mp\n",
    "from tqdm.notebook import tqdm"
   ]
  },
  {
   "cell_type": "code",
   "execution_count": 2,
   "id": "exceptional-cargo",
   "metadata": {},
   "outputs": [
    {
     "name": "stdout",
     "output_type": "stream",
     "text": [
      "Downloading train_sample.zip to trackml_data/raw\n",
      "100%|████████████████████████████████████████▉| 861M/861M [00:09<00:00, 117MB/s]\n",
      "100%|████████████████████████████████████████| 861M/861M [00:09<00:00, 90.4MB/s]\n",
      "Archive:  trackml_data/raw/train_sample.zip\n",
      "  inflating: trackml_data/raw/event000001054-particles.csv  \n",
      "  inflating: trackml_data/raw/event000001092-cells.csv  \n",
      "  inflating: trackml_data/raw/event000001072-particles.csv  \n",
      "  inflating: trackml_data/raw/event000001062-particles.csv  \n",
      "  inflating: trackml_data/raw/event000001093-hits.csv  \n",
      "  inflating: trackml_data/raw/event000001052-truth.csv  \n",
      "  inflating: trackml_data/raw/event000001013-cells.csv  \n",
      "  inflating: trackml_data/raw/event000001049-hits.csv  \n",
      "  inflating: trackml_data/raw/event000001038-cells.csv  \n",
      "  inflating: trackml_data/raw/event000001002-cells.csv  \n",
      "  inflating: trackml_data/raw/event000001056-truth.csv  \n",
      "  inflating: trackml_data/raw/event000001082-cells.csv  \n",
      "  inflating: trackml_data/raw/event000001043-hits.csv  \n",
      "  inflating: trackml_data/raw/event000001095-truth.csv  \n",
      "  inflating: trackml_data/raw/event000001048-hits.csv  \n",
      "  inflating: trackml_data/raw/event000001082-truth.csv  \n",
      "  inflating: trackml_data/raw/event000001087-cells.csv  \n",
      "  inflating: trackml_data/raw/event000001005-cells.csv  \n",
      "  inflating: trackml_data/raw/event000001023-hits.csv  \n",
      "  inflating: trackml_data/raw/event000001037-cells.csv  \n",
      "  inflating: trackml_data/raw/event000001021-hits.csv  \n",
      "  inflating: trackml_data/raw/event000001061-truth.csv  \n",
      "  inflating: trackml_data/raw/event000001067-cells.csv  \n",
      "  inflating: trackml_data/raw/event000001089-truth.csv  \n",
      "  inflating: trackml_data/raw/event000001035-particles.csv  \n",
      "  inflating: trackml_data/raw/event000001082-particles.csv  \n",
      "  inflating: trackml_data/raw/event000001040-cells.csv  \n",
      "  inflating: trackml_data/raw/event000001066-hits.csv  \n",
      "  inflating: trackml_data/raw/event000001056-hits.csv  \n",
      "  inflating: trackml_data/raw/event000001027-particles.csv  \n",
      "  inflating: trackml_data/raw/event000001004-truth.csv  \n",
      "  inflating: trackml_data/raw/event000001060-hits.csv  \n",
      "  inflating: trackml_data/raw/event000001016-hits.csv  \n",
      "  inflating: trackml_data/raw/event000001091-truth.csv  \n",
      "  inflating: trackml_data/raw/event000001039-particles.csv  \n",
      "  inflating: trackml_data/raw/event000001019-hits.csv  \n",
      "  inflating: trackml_data/raw/event000001075-cells.csv  \n",
      "  inflating: trackml_data/raw/event000001011-particles.csv  \n",
      "  inflating: trackml_data/raw/event000001054-truth.csv  \n",
      "  inflating: trackml_data/raw/event000001068-truth.csv  \n",
      "  inflating: trackml_data/raw/event000001084-cells.csv  \n",
      "  inflating: trackml_data/raw/event000001060-particles.csv  \n",
      "  inflating: trackml_data/raw/event000001099-particles.csv  \n",
      "  inflating: trackml_data/raw/event000001027-hits.csv  \n",
      "  inflating: trackml_data/raw/event000001018-truth.csv  \n",
      "  inflating: trackml_data/raw/event000001070-truth.csv  \n",
      "  inflating: trackml_data/raw/event000001053-particles.csv  \n",
      "  inflating: trackml_data/raw/event000001085-hits.csv  \n",
      "  inflating: trackml_data/raw/event000001026-hits.csv  \n",
      "  inflating: trackml_data/raw/event000001096-truth.csv  \n",
      "  inflating: trackml_data/raw/event000001059-cells.csv  \n",
      "  inflating: trackml_data/raw/event000001026-truth.csv  \n",
      "  inflating: trackml_data/raw/event000001092-truth.csv  \n",
      "  inflating: trackml_data/raw/event000001067-hits.csv  \n",
      "  inflating: trackml_data/raw/event000001009-truth.csv  \n",
      "  inflating: trackml_data/raw/event000001010-hits.csv  \n",
      "  inflating: trackml_data/raw/event000001051-truth.csv  \n",
      "  inflating: trackml_data/raw/event000001058-hits.csv  \n",
      "  inflating: trackml_data/raw/event000001055-truth.csv  \n",
      "  inflating: trackml_data/raw/event000001064-truth.csv  \n",
      "  inflating: trackml_data/raw/event000001047-cells.csv  \n",
      "  inflating: trackml_data/raw/event000001037-hits.csv  \n",
      "  inflating: trackml_data/raw/event000001098-particles.csv  \n",
      "  inflating: trackml_data/raw/event000001057-hits.csv  \n",
      "  inflating: trackml_data/raw/event000001028-particles.csv  \n",
      "  inflating: trackml_data/raw/event000001090-particles.csv  \n",
      "  inflating: trackml_data/raw/event000001002-hits.csv  \n",
      "  inflating: trackml_data/raw/event000001090-hits.csv  \n",
      "  inflating: trackml_data/raw/event000001071-truth.csv  \n",
      "  inflating: trackml_data/raw/event000001003-hits.csv  \n",
      "  inflating: trackml_data/raw/event000001036-truth.csv  \n",
      "  inflating: trackml_data/raw/event000001077-hits.csv  \n",
      "  inflating: trackml_data/raw/event000001031-truth.csv  \n",
      "  inflating: trackml_data/raw/event000001094-particles.csv  \n",
      "  inflating: trackml_data/raw/event000001014-truth.csv  \n",
      "  inflating: trackml_data/raw/event000001096-particles.csv  \n",
      "  inflating: trackml_data/raw/event000001053-truth.csv  \n",
      "  inflating: trackml_data/raw/event000001023-particles.csv  \n",
      "  inflating: trackml_data/raw/event000001098-hits.csv  \n",
      "  inflating: trackml_data/raw/event000001093-truth.csv  \n",
      "  inflating: trackml_data/raw/event000001087-truth.csv  \n",
      "  inflating: trackml_data/raw/event000001092-particles.csv  \n",
      "  inflating: trackml_data/raw/event000001080-truth.csv  \n",
      "  inflating: trackml_data/raw/event000001067-truth.csv  \n",
      "  inflating: trackml_data/raw/event000001048-particles.csv  \n",
      "  inflating: trackml_data/raw/event000001034-truth.csv  \n",
      "  inflating: trackml_data/raw/event000001072-truth.csv  \n",
      "  inflating: trackml_data/raw/event000001033-cells.csv  \n",
      "  inflating: trackml_data/raw/event000001010-truth.csv  \n",
      "  inflating: trackml_data/raw/event000001037-truth.csv  \n",
      "  inflating: trackml_data/raw/event000001014-particles.csv  \n",
      "  inflating: trackml_data/raw/event000001063-particles.csv  \n",
      "  inflating: trackml_data/raw/event000001024-particles.csv  \n",
      "  inflating: trackml_data/raw/event000001063-hits.csv  \n",
      "  inflating: trackml_data/raw/event000001023-truth.csv  \n",
      "  inflating: trackml_data/raw/event000001083-cells.csv  \n",
      "  inflating: trackml_data/raw/event000001045-cells.csv  \n",
      "  inflating: trackml_data/raw/event000001008-truth.csv  \n",
      "  inflating: trackml_data/raw/event000001099-truth.csv  \n",
      "  inflating: trackml_data/raw/event000001069-hits.csv  \n",
      "  inflating: trackml_data/raw/event000001056-cells.csv  \n",
      "  inflating: trackml_data/raw/event000001022-particles.csv  \n",
      "  inflating: trackml_data/raw/event000001082-hits.csv  \n",
      "  inflating: trackml_data/raw/event000001034-particles.csv  \n",
      "  inflating: trackml_data/raw/event000001000-cells.csv  \n",
      "  inflating: trackml_data/raw/event000001069-particles.csv  \n",
      "  inflating: trackml_data/raw/event000001025-cells.csv  \n",
      "  inflating: trackml_data/raw/event000001073-truth.csv  \n",
      "  inflating: trackml_data/raw/event000001038-hits.csv  \n",
      "  inflating: trackml_data/raw/event000001030-truth.csv  \n",
      "  inflating: trackml_data/raw/event000001010-cells.csv  \n",
      "  inflating: trackml_data/raw/event000001043-truth.csv  \n",
      "  inflating: trackml_data/raw/event000001033-hits.csv  \n",
      "  inflating: trackml_data/raw/event000001077-particles.csv  \n",
      "  inflating: trackml_data/raw/event000001081-cells.csv  \n",
      "  inflating: trackml_data/raw/event000001013-truth.csv  \n",
      "  inflating: trackml_data/raw/event000001035-truth.csv  \n",
      "  inflating: trackml_data/raw/event000001086-particles.csv  \n",
      "  inflating: trackml_data/raw/event000001024-hits.csv  \n",
      "  inflating: trackml_data/raw/event000001025-particles.csv  \n",
      "  inflating: trackml_data/raw/event000001089-particles.csv  \n",
      "  inflating: trackml_data/raw/event000001084-particles.csv  \n",
      "  inflating: trackml_data/raw/event000001083-truth.csv  \n",
      "  inflating: trackml_data/raw/event000001079-truth.csv  \n",
      "  inflating: trackml_data/raw/event000001009-particles.csv  \n",
      "  inflating: trackml_data/raw/event000001093-cells.csv  \n",
      "  inflating: trackml_data/raw/event000001069-cells.csv  \n",
      "  inflating: trackml_data/raw/event000001044-hits.csv  \n",
      "  inflating: trackml_data/raw/event000001022-truth.csv  \n",
      "  inflating: trackml_data/raw/event000001055-cells.csv  \n",
      "  inflating: trackml_data/raw/event000001071-particles.csv  \n",
      "  inflating: trackml_data/raw/event000001003-cells.csv  \n",
      "  inflating: trackml_data/raw/event000001000-hits.csv  \n",
      "  inflating: trackml_data/raw/event000001042-truth.csv  \n",
      "  inflating: trackml_data/raw/event000001076-cells.csv  \n",
      "  inflating: trackml_data/raw/event000001088-particles.csv  \n",
      "  inflating: trackml_data/raw/event000001015-cells.csv  \n",
      "  inflating: trackml_data/raw/event000001085-particles.csv  \n"
     ]
    },
    {
     "name": "stdout",
     "output_type": "stream",
     "text": [
      "  inflating: trackml_data/raw/event000001012-cells.csv  \n",
      "  inflating: trackml_data/raw/event000001076-truth.csv  \n",
      "  inflating: trackml_data/raw/event000001094-cells.csv  \n",
      "  inflating: trackml_data/raw/event000001016-particles.csv  \n",
      "  inflating: trackml_data/raw/event000001030-particles.csv  \n",
      "  inflating: trackml_data/raw/event000001065-hits.csv  \n",
      "  inflating: trackml_data/raw/event000001064-cells.csv  \n",
      "  inflating: trackml_data/raw/event000001049-truth.csv  \n",
      "  inflating: trackml_data/raw/event000001088-truth.csv  \n",
      "  inflating: trackml_data/raw/event000001019-cells.csv  \n",
      "  inflating: trackml_data/raw/event000001074-truth.csv  \n",
      "  inflating: trackml_data/raw/event000001067-particles.csv  \n",
      "  inflating: trackml_data/raw/event000001008-cells.csv  \n",
      "  inflating: trackml_data/raw/event000001013-hits.csv  \n",
      "  inflating: trackml_data/raw/event000001074-particles.csv  \n",
      "  inflating: trackml_data/raw/event000001024-cells.csv  \n",
      "  inflating: trackml_data/raw/event000001072-cells.csv  \n",
      "  inflating: trackml_data/raw/event000001036-cells.csv  \n",
      "  inflating: trackml_data/raw/event000001078-hits.csv  \n",
      "  inflating: trackml_data/raw/event000001099-cells.csv  \n",
      "  inflating: trackml_data/raw/event000001094-truth.csv  \n",
      "  inflating: trackml_data/raw/event000001072-hits.csv  \n",
      "  inflating: trackml_data/raw/event000001006-particles.csv  \n",
      "  inflating: trackml_data/raw/event000001097-cells.csv  \n",
      "  inflating: trackml_data/raw/event000001005-truth.csv  \n",
      "  inflating: trackml_data/raw/event000001045-hits.csv  \n",
      "  inflating: trackml_data/raw/event000001031-particles.csv  \n",
      "  inflating: trackml_data/raw/event000001009-cells.csv  \n",
      "  inflating: trackml_data/raw/event000001046-cells.csv  \n",
      "  inflating: trackml_data/raw/event000001098-truth.csv  \n",
      "  inflating: trackml_data/raw/event000001062-hits.csv  \n",
      "  inflating: trackml_data/raw/event000001053-hits.csv  \n",
      "  inflating: trackml_data/raw/event000001032-cells.csv  \n",
      "  inflating: trackml_data/raw/event000001020-particles.csv  \n",
      "  inflating: trackml_data/raw/event000001078-cells.csv  \n",
      "  inflating: trackml_data/raw/event000001086-cells.csv  \n",
      "  inflating: trackml_data/raw/event000001028-hits.csv  \n",
      "  inflating: trackml_data/raw/event000001042-cells.csv  \n",
      "  inflating: trackml_data/raw/event000001044-truth.csv  \n",
      "  inflating: trackml_data/raw/event000001021-cells.csv  \n",
      "  inflating: trackml_data/raw/event000001052-cells.csv  \n",
      "  inflating: trackml_data/raw/event000001039-truth.csv  \n",
      "  inflating: trackml_data/raw/event000001054-hits.csv  \n",
      "  inflating: trackml_data/raw/event000001051-particles.csv  \n",
      "  inflating: trackml_data/raw/event000001018-hits.csv  \n",
      "  inflating: trackml_data/raw/event000001057-truth.csv  \n",
      "  inflating: trackml_data/raw/event000001050-particles.csv  \n",
      "  inflating: trackml_data/raw/event000001019-particles.csv  \n",
      "  inflating: trackml_data/raw/event000001030-cells.csv  \n",
      "  inflating: trackml_data/raw/event000001059-truth.csv  \n",
      "  inflating: trackml_data/raw/event000001073-particles.csv  \n",
      "  inflating: trackml_data/raw/event000001039-cells.csv  \n",
      "  inflating: trackml_data/raw/event000001050-truth.csv  \n",
      "  inflating: trackml_data/raw/event000001066-truth.csv  \n",
      "  inflating: trackml_data/raw/event000001005-hits.csv  \n",
      "  inflating: trackml_data/raw/event000001056-particles.csv  \n",
      "  inflating: trackml_data/raw/event000001026-cells.csv  \n",
      "  inflating: trackml_data/raw/event000001021-truth.csv  \n",
      "  inflating: trackml_data/raw/event000001008-particles.csv  \n",
      "  inflating: trackml_data/raw/event000001046-truth.csv  \n",
      "  inflating: trackml_data/raw/event000001042-hits.csv  \n",
      "  inflating: trackml_data/raw/event000001086-truth.csv  \n",
      "  inflating: trackml_data/raw/event000001087-hits.csv  \n",
      "  inflating: trackml_data/raw/event000001019-truth.csv  \n",
      "  inflating: trackml_data/raw/event000001045-truth.csv  \n",
      "  inflating: trackml_data/raw/event000001057-cells.csv  \n",
      "  inflating: trackml_data/raw/event000001038-truth.csv  \n",
      "  inflating: trackml_data/raw/event000001051-cells.csv  \n",
      "  inflating: trackml_data/raw/event000001014-cells.csv  \n",
      "  inflating: trackml_data/raw/event000001041-cells.csv  \n",
      "  inflating: trackml_data/raw/event000001075-hits.csv  \n",
      "  inflating: trackml_data/raw/event000001017-truth.csv  \n",
      "  inflating: trackml_data/raw/event000001078-particles.csv  \n",
      "  inflating: trackml_data/raw/event000001051-hits.csv  \n",
      "  inflating: trackml_data/raw/event000001065-truth.csv  \n",
      "  inflating: trackml_data/raw/event000001032-hits.csv  \n",
      "  inflating: trackml_data/raw/event000001029-particles.csv  \n",
      "  inflating: trackml_data/raw/event000001068-particles.csv  \n",
      "  inflating: trackml_data/raw/event000001004-cells.csv  \n",
      "  inflating: trackml_data/raw/event000001053-cells.csv  \n",
      "  inflating: trackml_data/raw/event000001095-hits.csv  \n",
      "  inflating: trackml_data/raw/event000001081-truth.csv  \n",
      "  inflating: trackml_data/raw/event000001063-cells.csv  \n",
      "  inflating: trackml_data/raw/event000001004-hits.csv  \n",
      "  inflating: trackml_data/raw/event000001010-particles.csv  \n",
      "  inflating: trackml_data/raw/event000001070-cells.csv  \n",
      "  inflating: trackml_data/raw/event000001061-cells.csv  \n",
      "  inflating: trackml_data/raw/event000001011-hits.csv  \n",
      "  inflating: trackml_data/raw/event000001073-hits.csv  \n",
      "  inflating: trackml_data/raw/event000001031-hits.csv  \n",
      "  inflating: trackml_data/raw/event000001002-particles.csv  \n",
      "  inflating: trackml_data/raw/event000001098-cells.csv  \n",
      "  inflating: trackml_data/raw/event000001034-hits.csv  \n",
      "  inflating: trackml_data/raw/event000001077-truth.csv  \n",
      "  inflating: trackml_data/raw/event000001029-hits.csv  \n",
      "  inflating: trackml_data/raw/event000001006-truth.csv  \n",
      "  inflating: trackml_data/raw/event000001003-particles.csv  \n",
      "  inflating: trackml_data/raw/event000001097-hits.csv  \n",
      "  inflating: trackml_data/raw/event000001089-cells.csv  \n",
      "  inflating: trackml_data/raw/event000001020-hits.csv  \n",
      "  inflating: trackml_data/raw/event000001090-cells.csv  \n",
      "  inflating: trackml_data/raw/event000001043-cells.csv  \n",
      "  inflating: trackml_data/raw/event000001004-particles.csv  \n",
      "  inflating: trackml_data/raw/event000001096-hits.csv  \n",
      "  inflating: trackml_data/raw/event000001047-truth.csv  \n",
      "  inflating: trackml_data/raw/event000001007-cells.csv  \n",
      "  inflating: trackml_data/raw/event000001007-truth.csv  \n",
      "  inflating: trackml_data/raw/event000001078-truth.csv  \n",
      "  inflating: trackml_data/raw/event000001050-cells.csv  \n",
      "  inflating: trackml_data/raw/event000001097-truth.csv  \n",
      "  inflating: trackml_data/raw/event000001041-particles.csv  \n",
      "  inflating: trackml_data/raw/event000001050-hits.csv  \n",
      "  inflating: trackml_data/raw/event000001034-cells.csv  \n",
      "  inflating: trackml_data/raw/event000001054-cells.csv  \n",
      "  inflating: trackml_data/raw/event000001040-hits.csv  \n",
      "  inflating: trackml_data/raw/event000001006-hits.csv  \n",
      "  inflating: trackml_data/raw/event000001032-particles.csv  \n",
      "  inflating: trackml_data/raw/event000001048-truth.csv  \n",
      "  inflating: trackml_data/raw/event000001030-hits.csv  \n",
      "  inflating: trackml_data/raw/event000001091-hits.csv  \n",
      "  inflating: trackml_data/raw/event000001012-particles.csv  \n",
      "  inflating: trackml_data/raw/event000001060-cells.csv  \n",
      "  inflating: trackml_data/raw/event000001009-hits.csv  \n",
      "  inflating: trackml_data/raw/event000001043-particles.csv  \n",
      "  inflating: trackml_data/raw/event000001099-hits.csv  \n",
      "  inflating: trackml_data/raw/event000001063-truth.csv  \n",
      "  inflating: trackml_data/raw/event000001006-cells.csv  \n",
      "  inflating: trackml_data/raw/event000001037-particles.csv  \n",
      "  inflating: trackml_data/raw/event000001044-particles.csv  \n",
      "  inflating: trackml_data/raw/event000001077-cells.csv  \n",
      "  inflating: trackml_data/raw/event000001008-hits.csv  \n",
      "  inflating: trackml_data/raw/event000001076-particles.csv  \n",
      "  inflating: trackml_data/raw/event000001047-particles.csv  \n",
      "  inflating: trackml_data/raw/event000001005-particles.csv  \n",
      "  inflating: trackml_data/raw/event000001071-cells.csv  \n",
      "  inflating: trackml_data/raw/event000001025-hits.csv  \n",
      "  inflating: trackml_data/raw/event000001073-cells.csv  \n",
      "  inflating: trackml_data/raw/event000001096-cells.csv  \n",
      "  inflating: trackml_data/raw/event000001080-particles.csv  \n",
      "  inflating: trackml_data/raw/event000001022-cells.csv  \n",
      "  inflating: trackml_data/raw/event000001042-particles.csv  \n",
      "  inflating: trackml_data/raw/event000001071-hits.csv  \n"
     ]
    },
    {
     "name": "stdout",
     "output_type": "stream",
     "text": [
      "  inflating: trackml_data/raw/event000001091-cells.csv  \n",
      "  inflating: trackml_data/raw/event000001016-truth.csv  \n",
      "  inflating: trackml_data/raw/event000001000-truth.csv  \n",
      "  inflating: trackml_data/raw/event000001061-particles.csv  \n",
      "  inflating: trackml_data/raw/event000001001-cells.csv  \n",
      "  inflating: trackml_data/raw/event000001055-hits.csv  \n",
      "  inflating: trackml_data/raw/event000001041-hits.csv  \n",
      "  inflating: trackml_data/raw/event000001079-particles.csv  \n",
      "  inflating: trackml_data/raw/event000001018-particles.csv  \n",
      "  inflating: trackml_data/raw/event000001041-truth.csv  \n",
      "  inflating: trackml_data/raw/event000001015-truth.csv  \n",
      "  inflating: trackml_data/raw/event000001020-cells.csv  \n",
      "  inflating: trackml_data/raw/event000001079-cells.csv  \n",
      "  inflating: trackml_data/raw/event000001033-truth.csv  \n",
      "  inflating: trackml_data/raw/event000001062-cells.csv  \n",
      "  inflating: trackml_data/raw/event000001040-truth.csv  \n",
      "  inflating: trackml_data/raw/event000001059-particles.csv  \n",
      "  inflating: trackml_data/raw/event000001059-hits.csv  \n",
      "  inflating: trackml_data/raw/event000001022-hits.csv  \n",
      "  inflating: trackml_data/raw/event000001062-truth.csv  \n",
      "  inflating: trackml_data/raw/event000001012-truth.csv  \n",
      "  inflating: trackml_data/raw/event000001060-truth.csv  \n",
      "  inflating: trackml_data/raw/event000001048-cells.csv  \n",
      "  inflating: trackml_data/raw/event000001095-cells.csv  \n",
      "  inflating: trackml_data/raw/event000001085-cells.csv  \n",
      "  inflating: trackml_data/raw/event000001012-hits.csv  \n",
      "  inflating: trackml_data/raw/event000001087-particles.csv  \n",
      "  inflating: trackml_data/raw/event000001065-cells.csv  \n",
      "  inflating: trackml_data/raw/event000001086-hits.csv  \n",
      "  inflating: trackml_data/raw/event000001079-hits.csv  \n",
      "  inflating: trackml_data/raw/event000001070-particles.csv  \n",
      "  inflating: trackml_data/raw/event000001038-particles.csv  \n",
      "  inflating: trackml_data/raw/event000001017-hits.csv  \n",
      "  inflating: trackml_data/raw/event000001021-particles.csv  \n",
      "  inflating: trackml_data/raw/event000001036-particles.csv  \n",
      "  inflating: trackml_data/raw/event000001002-truth.csv  \n",
      "  inflating: trackml_data/raw/event000001011-truth.csv  \n",
      "  inflating: trackml_data/raw/event000001076-hits.csv  \n",
      "  inflating: trackml_data/raw/event000001001-particles.csv  \n",
      "  inflating: trackml_data/raw/event000001068-hits.csv  \n",
      "  inflating: trackml_data/raw/event000001039-hits.csv  \n",
      "  inflating: trackml_data/raw/event000001090-truth.csv  \n",
      "  inflating: trackml_data/raw/event000001095-particles.csv  \n",
      "  inflating: trackml_data/raw/event000001066-cells.csv  \n",
      "  inflating: trackml_data/raw/event000001069-truth.csv  \n",
      "  inflating: trackml_data/raw/event000001017-particles.csv  \n",
      "  inflating: trackml_data/raw/event000001029-cells.csv  \n",
      "  inflating: trackml_data/raw/event000001025-truth.csv  \n",
      "  inflating: trackml_data/raw/event000001013-particles.csv  \n",
      "  inflating: trackml_data/raw/event000001068-cells.csv  \n",
      "  inflating: trackml_data/raw/event000001061-hits.csv  \n",
      "  inflating: trackml_data/raw/event000001032-truth.csv  \n",
      "  inflating: trackml_data/raw/event000001094-hits.csv  \n",
      "  inflating: trackml_data/raw/event000001081-particles.csv  \n",
      "  inflating: trackml_data/raw/event000001080-cells.csv  \n",
      "  inflating: trackml_data/raw/event000001000-particles.csv  \n",
      "  inflating: trackml_data/raw/event000001007-particles.csv  \n",
      "  inflating: trackml_data/raw/event000001018-cells.csv  \n",
      "  inflating: trackml_data/raw/event000001058-truth.csv  \n",
      "  inflating: trackml_data/raw/event000001047-hits.csv  \n",
      "  inflating: trackml_data/raw/event000001058-particles.csv  \n",
      "  inflating: trackml_data/raw/event000001046-particles.csv  \n",
      "  inflating: trackml_data/raw/event000001007-hits.csv  \n",
      "  inflating: trackml_data/raw/event000001001-truth.csv  \n",
      "  inflating: trackml_data/raw/event000001033-particles.csv  \n",
      "  inflating: trackml_data/raw/event000001084-hits.csv  \n",
      "  inflating: trackml_data/raw/event000001074-hits.csv  \n",
      "  inflating: trackml_data/raw/event000001017-cells.csv  \n",
      "  inflating: trackml_data/raw/event000001027-truth.csv  \n",
      "  inflating: trackml_data/raw/event000001091-particles.csv  \n",
      "  inflating: trackml_data/raw/event000001075-truth.csv  \n",
      "  inflating: trackml_data/raw/event000001083-hits.csv  \n",
      "  inflating: trackml_data/raw/event000001029-truth.csv  \n",
      "  inflating: trackml_data/raw/event000001049-particles.csv  \n",
      "  inflating: trackml_data/raw/event000001015-hits.csv  \n",
      "  inflating: trackml_data/raw/event000001027-cells.csv  \n",
      "  inflating: trackml_data/raw/event000001045-particles.csv  \n",
      "  inflating: trackml_data/raw/event000001064-particles.csv  \n",
      "  inflating: trackml_data/raw/event000001085-truth.csv  \n",
      "  inflating: trackml_data/raw/event000001064-hits.csv  \n",
      "  inflating: trackml_data/raw/event000001031-cells.csv  \n",
      "  inflating: trackml_data/raw/event000001081-hits.csv  \n",
      "  inflating: trackml_data/raw/event000001084-truth.csv  \n",
      "  inflating: trackml_data/raw/event000001083-particles.csv  \n",
      "  inflating: trackml_data/raw/event000001052-hits.csv  \n",
      "  inflating: trackml_data/raw/event000001065-particles.csv  \n",
      "  inflating: trackml_data/raw/event000001088-hits.csv  \n",
      "  inflating: trackml_data/raw/event000001016-cells.csv  \n",
      "  inflating: trackml_data/raw/event000001014-hits.csv  \n",
      "  inflating: trackml_data/raw/event000001074-cells.csv  \n",
      "  inflating: trackml_data/raw/event000001057-particles.csv  \n",
      "  inflating: trackml_data/raw/event000001023-cells.csv  \n",
      "  inflating: trackml_data/raw/event000001092-hits.csv  \n",
      "  inflating: trackml_data/raw/event000001015-particles.csv  \n",
      "  inflating: trackml_data/raw/event000001093-particles.csv  \n",
      "  inflating: trackml_data/raw/event000001089-hits.csv  \n",
      "  inflating: trackml_data/raw/event000001070-hits.csv  \n",
      "  inflating: trackml_data/raw/event000001075-particles.csv  \n",
      "  inflating: trackml_data/raw/event000001036-hits.csv  \n",
      "  inflating: trackml_data/raw/event000001028-truth.csv  \n",
      "  inflating: trackml_data/raw/event000001088-cells.csv  \n",
      "  inflating: trackml_data/raw/event000001035-cells.csv  \n",
      "  inflating: trackml_data/raw/event000001011-cells.csv  \n",
      "  inflating: trackml_data/raw/event000001024-truth.csv  \n",
      "  inflating: trackml_data/raw/event000001046-hits.csv  \n",
      "  inflating: trackml_data/raw/event000001028-cells.csv  \n",
      "  inflating: trackml_data/raw/event000001066-particles.csv  \n",
      "  inflating: trackml_data/raw/event000001026-particles.csv  \n",
      "  inflating: trackml_data/raw/event000001001-hits.csv  \n",
      "  inflating: trackml_data/raw/event000001035-hits.csv  \n",
      "  inflating: trackml_data/raw/event000001040-particles.csv  \n",
      "  inflating: trackml_data/raw/event000001049-cells.csv  \n",
      "  inflating: trackml_data/raw/event000001080-hits.csv  \n",
      "  inflating: trackml_data/raw/event000001044-cells.csv  \n",
      "  inflating: trackml_data/raw/event000001055-particles.csv  \n",
      "  inflating: trackml_data/raw/event000001020-truth.csv  \n",
      "  inflating: trackml_data/raw/event000001003-truth.csv  \n",
      "  inflating: trackml_data/raw/event000001097-particles.csv  \n",
      "  inflating: trackml_data/raw/event000001052-particles.csv  \n",
      "  inflating: trackml_data/raw/event000001058-cells.csv  \n"
     ]
    }
   ],
   "source": [
    "# Download 100-event dataset\n",
    "# Folllow instructions at https://github.com/Kaggle/kaggle-api to use API (download kaggle.json, etc.)\n",
    "!if [ ! -d trackml_data ]; then kaggle competitions download -c trackml-particle-identification -f train_sample.zip -p trackml_data/raw/; unzip -j trackml_data/raw/train_sample.zip -d trackml_data/raw/; rm trackml_data/raw/train_sample.zip; fi"
   ]
  },
  {
   "cell_type": "code",
   "execution_count": 3,
   "id": "understood-commons",
   "metadata": {},
   "outputs": [
    {
     "name": "stdout",
     "output_type": "stream",
     "text": [
      "Processing...\n",
      "Constructing Graphs using n_workers = 1\n",
      "Running task 0\n"
     ]
    },
    {
     "name": "stderr",
     "output_type": "stream",
     "text": [
      "  0%|          | 0/100 [00:00<?, ?it/s]/storage/user/jduarte/trackml_gnn_example/particle.py:311: UserWarning: This overload of nonzero is deprecated:\n",
      "\tnonzero()\n",
      "Consider using one of the following signatures instead:\n",
      "\tnonzero(*, bool as_tuple) (Triggered internally at  /pytorch/torch/csrc/utils/python_arg_parser.cpp:882.)\n",
      "  nnz1 = mask1.nonzero().flatten()\n",
      "100%|██████████| 100/100 [01:19<00:00,  1.26it/s]\n"
     ]
    },
    {
     "name": "stdout",
     "output_type": "stream",
     "text": [
      "Done!\n"
     ]
    }
   ],
   "source": [
    "# Construct dataset\n",
    "data = TrackMLParticleTrackingDataset(root='trackml_data',transform=None, n_events=100,\n",
    "                 directed=False, layer_pairs_plus=False,\n",
    "                 volume_layer_ids=[[8, 2], [8, 4], [8, 6], [8, 8]], #Layers Selected\n",
    "                 layer_pairs=[[7, 8], [8, 9], [9, 10]],             #Connected Layers\n",
    "                 pt_min=2.0, eta_range=[-5, 5],                     #Node Cuts\n",
    "                 phi_slope_max=0.0006, z0_max=150,                  #Edge Cuts\n",
    "                 n_phi_sections=8, n_eta_sections=2,                #N Sections\n",
    "                 augments=False, intersect=False, tracking=False,   #Toggle Switches\n",
    "                 no_edge_features=True, \n",
    "                 n_workers=1, n_tasks=1)"
   ]
  },
  {
   "cell_type": "code",
   "execution_count": 4,
   "id": "imposed-corpus",
   "metadata": {},
   "outputs": [],
   "source": [
    "import torch\n",
    "import torch_geometric\n",
    "device = torch.device(\"cuda:0\" if torch.cuda.is_available() else \"cpu\")\n",
    "\n",
    "import torch.nn as nn\n",
    "import torch.nn.functional as F\n",
    "import torch_geometric.transforms as T\n",
    "from torch_geometric.nn import EdgeConv, global_mean_pool\n",
    "from torch.nn import Sequential as Seq, Linear as Lin, ReLU, Sigmoid\n",
    "from torch_scatter import scatter_mean\n",
    "from torch_geometric.nn import MetaLayer\n",
    "\n",
    "node_feat = 3\n",
    "edge_feat = 1\n",
    "hidden = 8\n",
    "\n",
    "class EdgeBlock(torch.nn.Module):\n",
    "    def __init__(self):\n",
    "        super(EdgeBlock, self).__init__()\n",
    "        self.edge_mlp = Seq(Lin(node_feat*2+edge_feat, hidden), \n",
    "                            ReLU(),\n",
    "                            Lin(hidden, hidden),\n",
    "                            ReLU(),\n",
    "                            Lin(hidden, hidden),\n",
    "                            ReLU(),\n",
    "                            Lin(hidden, edge_feat),\n",
    "                            Sigmoid())\n",
    "\n",
    "    def forward(self, src, dest, edge_attr, u, batch):\n",
    "        out = torch.cat([src, dest, edge_attr], 1)\n",
    "        return self.edge_mlp(out)\n",
    "\n",
    "class NodeBlock(torch.nn.Module):\n",
    "    def __init__(self):\n",
    "        super(NodeBlock, self).__init__()\n",
    "        self.node_mlp = Seq(Lin(node_feat+edge_feat, hidden), \n",
    "                            ReLU(), \n",
    "                            Lin(hidden, hidden),\n",
    "                            ReLU(),\n",
    "                            Lin(hidden, node_feat),                        \n",
    "                            )\n",
    "\n",
    "    def forward(self, x, edge_index, edge_attr, u, batch):\n",
    "        row, col = edge_index\n",
    "        out = scatter_mean(edge_attr, col, dim=0, dim_size=x.size(0))\n",
    "        out = torch.cat([x, out], dim=1)\n",
    "        return self.node_mlp(out)\n",
    "\n",
    "\n",
    "class InteractionNetwork(torch.nn.Module):\n",
    "    def __init__(self):\n",
    "        super(InteractionNetwork, self).__init__()\n",
    "        self.interactionnetwork = MetaLayer(EdgeBlock(), NodeBlock(), None)\n",
    "        \n",
    "    def forward(self, x, edge_index, edge_attr, batch):\n",
    "        \n",
    "        # 1st iteration \n",
    "        x, edge_attr, _ = self.interactionnetwork(x, edge_index, edge_attr, None, batch)\n",
    "        # 2nd iteration (only care about output of EdgeBlock -> edge_attr)\n",
    "        _, edge_attr, _ = self.interactionnetwork(x, edge_index, edge_attr, None, batch)\n",
    "        \n",
    "        return edge_attr\n",
    "    \n",
    "model = InteractionNetwork().to(device)\n",
    "optimizer = torch.optim.Adam(model.parameters(), lr = 1e-2)"
   ]
  },
  {
   "cell_type": "code",
   "execution_count": 5,
   "id": "temporal-library",
   "metadata": {},
   "outputs": [],
   "source": [
    "from torch_geometric.data import Data, DataListLoader, Batch\n",
    "\n",
    "\n",
    "def collate(items):\n",
    "    return Batch.from_data_list(items)\n",
    "\n",
    "batch_size = 32\n",
    "\n",
    "loader = DataListLoader(data, batch_size=batch_size, pin_memory=True, shuffle=True)\n",
    "loader.collate_fn = collate\n",
    "\n",
    "\n",
    "samples = len(data)"
   ]
  },
  {
   "cell_type": "code",
   "execution_count": 6,
   "id": "defined-prague",
   "metadata": {},
   "outputs": [],
   "source": [
    "@torch.no_grad()\n",
    "def test(model,loader,total,batch_size,leave=False):\n",
    "    model.eval()\n",
    "    \n",
    "    xentropy = nn.BCELoss(reduction='mean')\n",
    "\n",
    "    sum_loss = 0.\n",
    "    t = tqdm(enumerate(loader),total=total/batch_size,leave=leave)\n",
    "    for i,data in t:\n",
    "        data = data.to(device)\n",
    "        batch_output = model(data.x, data.edge_index, data.edge_attr, data.batch).squeeze()\n",
    "        batch_loss_item = xentropy(batch_output, data.y.type(torch.cuda.FloatTensor)).item()\n",
    "        sum_loss += batch_loss_item\n",
    "        t.set_description(\"loss = %.5f\" % (batch_loss_item))\n",
    "        t.refresh() # to show immediately the update\n",
    "\n",
    "    return sum_loss/(i+1)\n",
    "\n",
    "def train(model, optimizer, loader, total, batch_size,leave=False):\n",
    "    model.train()\n",
    "    \n",
    "    xentropy = nn.BCELoss(reduction='mean')\n",
    "\n",
    "    sum_loss = 0.\n",
    "    t = tqdm(enumerate(loader),total=total/batch_size,leave=leave)\n",
    "    for i,data in t:\n",
    "        data = data.to(device)\n",
    "        optimizer.zero_grad()\n",
    "        batch_output = model(data.x, data.edge_index, data.edge_attr, data.batch).squeeze()\n",
    "        batch_loss = xentropy(batch_output, data.y.type(torch.cuda.FloatTensor))\n",
    "        batch_loss.backward()\n",
    "        batch_loss_item = batch_loss.item()\n",
    "        t.set_description(\"loss = %.5f\" % batch_loss_item)\n",
    "        t.refresh() # to show immediately the update\n",
    "        sum_loss += batch_loss_item\n",
    "        optimizer.step()\n",
    "    \n",
    "    return sum_loss/(i+1)"
   ]
  },
  {
   "cell_type": "code",
   "execution_count": 7,
   "id": "favorite-atlas",
   "metadata": {},
   "outputs": [
    {
     "data": {
      "application/vnd.jupyter.widget-view+json": {
       "model_id": "9cc6a75c36054ff183ecf07c50f28ba1",
       "version_major": 2,
       "version_minor": 0
      },
      "text/plain": [
       "  0%|          | 0/100 [00:00<?, ?it/s]"
      ]
     },
     "metadata": {},
     "output_type": "display_data"
    },
    {
     "data": {
      "application/vnd.jupyter.widget-view+json": {
       "model_id": "",
       "version_major": 2,
       "version_minor": 0
      },
      "text/plain": [
       "  0%|          | 0/50.0 [00:00<?, ?it/s]"
      ]
     },
     "metadata": {},
     "output_type": "display_data"
    },
    {
     "data": {
      "application/vnd.jupyter.widget-view+json": {
       "model_id": "",
       "version_major": 2,
       "version_minor": 0
      },
      "text/plain": [
       "  0%|          | 0/50.0 [00:00<?, ?it/s]"
      ]
     },
     "metadata": {},
     "output_type": "display_data"
    },
    {
     "name": "stdout",
     "output_type": "stream",
     "text": [
      "Epoch: 00, Training Loss:   0.6231\n",
      "           Validation Loss: 0.6022\n",
      "New best model saved to: interactionnetwork_best.pth\n"
     ]
    },
    {
     "data": {
      "application/vnd.jupyter.widget-view+json": {
       "model_id": "",
       "version_major": 2,
       "version_minor": 0
      },
      "text/plain": [
       "  0%|          | 0/50.0 [00:00<?, ?it/s]"
      ]
     },
     "metadata": {},
     "output_type": "display_data"
    },
    {
     "data": {
      "application/vnd.jupyter.widget-view+json": {
       "model_id": "",
       "version_major": 2,
       "version_minor": 0
      },
      "text/plain": [
       "  0%|          | 0/50.0 [00:00<?, ?it/s]"
      ]
     },
     "metadata": {},
     "output_type": "display_data"
    },
    {
     "name": "stdout",
     "output_type": "stream",
     "text": [
      "Epoch: 01, Training Loss:   0.5404\n",
      "           Validation Loss: 0.4811\n",
      "New best model saved to: interactionnetwork_best.pth\n"
     ]
    },
    {
     "data": {
      "application/vnd.jupyter.widget-view+json": {
       "model_id": "",
       "version_major": 2,
       "version_minor": 0
      },
      "text/plain": [
       "  0%|          | 0/50.0 [00:00<?, ?it/s]"
      ]
     },
     "metadata": {},
     "output_type": "display_data"
    },
    {
     "data": {
      "application/vnd.jupyter.widget-view+json": {
       "model_id": "",
       "version_major": 2,
       "version_minor": 0
      },
      "text/plain": [
       "  0%|          | 0/50.0 [00:00<?, ?it/s]"
      ]
     },
     "metadata": {},
     "output_type": "display_data"
    },
    {
     "name": "stdout",
     "output_type": "stream",
     "text": [
      "Epoch: 02, Training Loss:   0.4805\n",
      "           Validation Loss: 0.4474\n",
      "New best model saved to: interactionnetwork_best.pth\n"
     ]
    },
    {
     "data": {
      "application/vnd.jupyter.widget-view+json": {
       "model_id": "",
       "version_major": 2,
       "version_minor": 0
      },
      "text/plain": [
       "  0%|          | 0/50.0 [00:00<?, ?it/s]"
      ]
     },
     "metadata": {},
     "output_type": "display_data"
    },
    {
     "data": {
      "application/vnd.jupyter.widget-view+json": {
       "model_id": "",
       "version_major": 2,
       "version_minor": 0
      },
      "text/plain": [
       "  0%|          | 0/50.0 [00:00<?, ?it/s]"
      ]
     },
     "metadata": {},
     "output_type": "display_data"
    },
    {
     "name": "stdout",
     "output_type": "stream",
     "text": [
      "Epoch: 03, Training Loss:   0.4392\n",
      "           Validation Loss: 0.4404\n",
      "New best model saved to: interactionnetwork_best.pth\n"
     ]
    },
    {
     "data": {
      "application/vnd.jupyter.widget-view+json": {
       "model_id": "",
       "version_major": 2,
       "version_minor": 0
      },
      "text/plain": [
       "  0%|          | 0/50.0 [00:00<?, ?it/s]"
      ]
     },
     "metadata": {},
     "output_type": "display_data"
    },
    {
     "data": {
      "application/vnd.jupyter.widget-view+json": {
       "model_id": "",
       "version_major": 2,
       "version_minor": 0
      },
      "text/plain": [
       "  0%|          | 0/50.0 [00:00<?, ?it/s]"
      ]
     },
     "metadata": {},
     "output_type": "display_data"
    },
    {
     "name": "stdout",
     "output_type": "stream",
     "text": [
      "Epoch: 04, Training Loss:   0.4307\n",
      "           Validation Loss: 0.4076\n",
      "New best model saved to: interactionnetwork_best.pth\n"
     ]
    },
    {
     "data": {
      "application/vnd.jupyter.widget-view+json": {
       "model_id": "",
       "version_major": 2,
       "version_minor": 0
      },
      "text/plain": [
       "  0%|          | 0/50.0 [00:00<?, ?it/s]"
      ]
     },
     "metadata": {},
     "output_type": "display_data"
    },
    {
     "data": {
      "application/vnd.jupyter.widget-view+json": {
       "model_id": "",
       "version_major": 2,
       "version_minor": 0
      },
      "text/plain": [
       "  0%|          | 0/50.0 [00:00<?, ?it/s]"
      ]
     },
     "metadata": {},
     "output_type": "display_data"
    },
    {
     "name": "stdout",
     "output_type": "stream",
     "text": [
      "Epoch: 05, Training Loss:   0.3940\n",
      "           Validation Loss: 0.3625\n",
      "New best model saved to: interactionnetwork_best.pth\n"
     ]
    },
    {
     "data": {
      "application/vnd.jupyter.widget-view+json": {
       "model_id": "",
       "version_major": 2,
       "version_minor": 0
      },
      "text/plain": [
       "  0%|          | 0/50.0 [00:00<?, ?it/s]"
      ]
     },
     "metadata": {},
     "output_type": "display_data"
    },
    {
     "data": {
      "application/vnd.jupyter.widget-view+json": {
       "model_id": "",
       "version_major": 2,
       "version_minor": 0
      },
      "text/plain": [
       "  0%|          | 0/50.0 [00:00<?, ?it/s]"
      ]
     },
     "metadata": {},
     "output_type": "display_data"
    },
    {
     "name": "stdout",
     "output_type": "stream",
     "text": [
      "Epoch: 06, Training Loss:   0.3811\n",
      "           Validation Loss: 0.3735\n",
      "Stale epoch\n"
     ]
    },
    {
     "data": {
      "application/vnd.jupyter.widget-view+json": {
       "model_id": "",
       "version_major": 2,
       "version_minor": 0
      },
      "text/plain": [
       "  0%|          | 0/50.0 [00:00<?, ?it/s]"
      ]
     },
     "metadata": {},
     "output_type": "display_data"
    },
    {
     "data": {
      "application/vnd.jupyter.widget-view+json": {
       "model_id": "",
       "version_major": 2,
       "version_minor": 0
      },
      "text/plain": [
       "  0%|          | 0/50.0 [00:00<?, ?it/s]"
      ]
     },
     "metadata": {},
     "output_type": "display_data"
    },
    {
     "name": "stdout",
     "output_type": "stream",
     "text": [
      "Epoch: 07, Training Loss:   0.3504\n",
      "           Validation Loss: 0.3447\n",
      "New best model saved to: interactionnetwork_best.pth\n"
     ]
    },
    {
     "data": {
      "application/vnd.jupyter.widget-view+json": {
       "model_id": "",
       "version_major": 2,
       "version_minor": 0
      },
      "text/plain": [
       "  0%|          | 0/50.0 [00:00<?, ?it/s]"
      ]
     },
     "metadata": {},
     "output_type": "display_data"
    },
    {
     "data": {
      "application/vnd.jupyter.widget-view+json": {
       "model_id": "",
       "version_major": 2,
       "version_minor": 0
      },
      "text/plain": [
       "  0%|          | 0/50.0 [00:00<?, ?it/s]"
      ]
     },
     "metadata": {},
     "output_type": "display_data"
    },
    {
     "name": "stdout",
     "output_type": "stream",
     "text": [
      "Epoch: 08, Training Loss:   0.4464\n",
      "           Validation Loss: 0.4207\n",
      "Stale epoch\n"
     ]
    },
    {
     "data": {
      "application/vnd.jupyter.widget-view+json": {
       "model_id": "",
       "version_major": 2,
       "version_minor": 0
      },
      "text/plain": [
       "  0%|          | 0/50.0 [00:00<?, ?it/s]"
      ]
     },
     "metadata": {},
     "output_type": "display_data"
    },
    {
     "data": {
      "application/vnd.jupyter.widget-view+json": {
       "model_id": "",
       "version_major": 2,
       "version_minor": 0
      },
      "text/plain": [
       "  0%|          | 0/50.0 [00:00<?, ?it/s]"
      ]
     },
     "metadata": {},
     "output_type": "display_data"
    },
    {
     "name": "stdout",
     "output_type": "stream",
     "text": [
      "Epoch: 09, Training Loss:   0.4020\n",
      "           Validation Loss: 0.3765\n",
      "Stale epoch\n"
     ]
    },
    {
     "data": {
      "application/vnd.jupyter.widget-view+json": {
       "model_id": "",
       "version_major": 2,
       "version_minor": 0
      },
      "text/plain": [
       "  0%|          | 0/50.0 [00:00<?, ?it/s]"
      ]
     },
     "metadata": {},
     "output_type": "display_data"
    },
    {
     "data": {
      "application/vnd.jupyter.widget-view+json": {
       "model_id": "",
       "version_major": 2,
       "version_minor": 0
      },
      "text/plain": [
       "  0%|          | 0/50.0 [00:00<?, ?it/s]"
      ]
     },
     "metadata": {},
     "output_type": "display_data"
    },
    {
     "name": "stdout",
     "output_type": "stream",
     "text": [
      "Epoch: 10, Training Loss:   0.3714\n",
      "           Validation Loss: 0.3619\n",
      "Stale epoch\n"
     ]
    },
    {
     "data": {
      "application/vnd.jupyter.widget-view+json": {
       "model_id": "",
       "version_major": 2,
       "version_minor": 0
      },
      "text/plain": [
       "  0%|          | 0/50.0 [00:00<?, ?it/s]"
      ]
     },
     "metadata": {},
     "output_type": "display_data"
    },
    {
     "data": {
      "application/vnd.jupyter.widget-view+json": {
       "model_id": "",
       "version_major": 2,
       "version_minor": 0
      },
      "text/plain": [
       "  0%|          | 0/50.0 [00:00<?, ?it/s]"
      ]
     },
     "metadata": {},
     "output_type": "display_data"
    },
    {
     "name": "stdout",
     "output_type": "stream",
     "text": [
      "Epoch: 11, Training Loss:   0.3504\n",
      "           Validation Loss: 0.3326\n",
      "New best model saved to: interactionnetwork_best.pth\n"
     ]
    },
    {
     "data": {
      "application/vnd.jupyter.widget-view+json": {
       "model_id": "",
       "version_major": 2,
       "version_minor": 0
      },
      "text/plain": [
       "  0%|          | 0/50.0 [00:00<?, ?it/s]"
      ]
     },
     "metadata": {},
     "output_type": "display_data"
    },
    {
     "data": {
      "application/vnd.jupyter.widget-view+json": {
       "model_id": "",
       "version_major": 2,
       "version_minor": 0
      },
      "text/plain": [
       "  0%|          | 0/50.0 [00:00<?, ?it/s]"
      ]
     },
     "metadata": {},
     "output_type": "display_data"
    },
    {
     "name": "stdout",
     "output_type": "stream",
     "text": [
      "Epoch: 12, Training Loss:   0.3252\n",
      "           Validation Loss: 0.3133\n",
      "New best model saved to: interactionnetwork_best.pth\n"
     ]
    },
    {
     "data": {
      "application/vnd.jupyter.widget-view+json": {
       "model_id": "",
       "version_major": 2,
       "version_minor": 0
      },
      "text/plain": [
       "  0%|          | 0/50.0 [00:00<?, ?it/s]"
      ]
     },
     "metadata": {},
     "output_type": "display_data"
    },
    {
     "data": {
      "application/vnd.jupyter.widget-view+json": {
       "model_id": "",
       "version_major": 2,
       "version_minor": 0
      },
      "text/plain": [
       "  0%|          | 0/50.0 [00:00<?, ?it/s]"
      ]
     },
     "metadata": {},
     "output_type": "display_data"
    },
    {
     "name": "stdout",
     "output_type": "stream",
     "text": [
      "Epoch: 13, Training Loss:   0.3193\n",
      "           Validation Loss: 0.3139\n",
      "Stale epoch\n"
     ]
    },
    {
     "data": {
      "application/vnd.jupyter.widget-view+json": {
       "model_id": "",
       "version_major": 2,
       "version_minor": 0
      },
      "text/plain": [
       "  0%|          | 0/50.0 [00:00<?, ?it/s]"
      ]
     },
     "metadata": {},
     "output_type": "display_data"
    },
    {
     "data": {
      "application/vnd.jupyter.widget-view+json": {
       "model_id": "",
       "version_major": 2,
       "version_minor": 0
      },
      "text/plain": [
       "  0%|          | 0/50.0 [00:00<?, ?it/s]"
      ]
     },
     "metadata": {},
     "output_type": "display_data"
    },
    {
     "name": "stdout",
     "output_type": "stream",
     "text": [
      "Epoch: 14, Training Loss:   0.3248\n",
      "           Validation Loss: 0.3349\n",
      "Stale epoch\n"
     ]
    },
    {
     "data": {
      "application/vnd.jupyter.widget-view+json": {
       "model_id": "",
       "version_major": 2,
       "version_minor": 0
      },
      "text/plain": [
       "  0%|          | 0/50.0 [00:00<?, ?it/s]"
      ]
     },
     "metadata": {},
     "output_type": "display_data"
    },
    {
     "data": {
      "application/vnd.jupyter.widget-view+json": {
       "model_id": "",
       "version_major": 2,
       "version_minor": 0
      },
      "text/plain": [
       "  0%|          | 0/50.0 [00:00<?, ?it/s]"
      ]
     },
     "metadata": {},
     "output_type": "display_data"
    },
    {
     "name": "stdout",
     "output_type": "stream",
     "text": [
      "Epoch: 15, Training Loss:   0.3161\n",
      "           Validation Loss: 0.3113\n",
      "New best model saved to: interactionnetwork_best.pth\n"
     ]
    },
    {
     "data": {
      "application/vnd.jupyter.widget-view+json": {
       "model_id": "",
       "version_major": 2,
       "version_minor": 0
      },
      "text/plain": [
       "  0%|          | 0/50.0 [00:00<?, ?it/s]"
      ]
     },
     "metadata": {},
     "output_type": "display_data"
    },
    {
     "data": {
      "application/vnd.jupyter.widget-view+json": {
       "model_id": "",
       "version_major": 2,
       "version_minor": 0
      },
      "text/plain": [
       "  0%|          | 0/50.0 [00:00<?, ?it/s]"
      ]
     },
     "metadata": {},
     "output_type": "display_data"
    },
    {
     "name": "stdout",
     "output_type": "stream",
     "text": [
      "Epoch: 16, Training Loss:   0.3103\n",
      "           Validation Loss: 0.3048\n",
      "New best model saved to: interactionnetwork_best.pth\n"
     ]
    },
    {
     "data": {
      "application/vnd.jupyter.widget-view+json": {
       "model_id": "",
       "version_major": 2,
       "version_minor": 0
      },
      "text/plain": [
       "  0%|          | 0/50.0 [00:00<?, ?it/s]"
      ]
     },
     "metadata": {},
     "output_type": "display_data"
    },
    {
     "data": {
      "application/vnd.jupyter.widget-view+json": {
       "model_id": "",
       "version_major": 2,
       "version_minor": 0
      },
      "text/plain": [
       "  0%|          | 0/50.0 [00:00<?, ?it/s]"
      ]
     },
     "metadata": {},
     "output_type": "display_data"
    },
    {
     "name": "stdout",
     "output_type": "stream",
     "text": [
      "Epoch: 17, Training Loss:   0.3083\n",
      "           Validation Loss: 0.3069\n",
      "Stale epoch\n"
     ]
    },
    {
     "data": {
      "application/vnd.jupyter.widget-view+json": {
       "model_id": "",
       "version_major": 2,
       "version_minor": 0
      },
      "text/plain": [
       "  0%|          | 0/50.0 [00:00<?, ?it/s]"
      ]
     },
     "metadata": {},
     "output_type": "display_data"
    },
    {
     "data": {
      "application/vnd.jupyter.widget-view+json": {
       "model_id": "",
       "version_major": 2,
       "version_minor": 0
      },
      "text/plain": [
       "  0%|          | 0/50.0 [00:00<?, ?it/s]"
      ]
     },
     "metadata": {},
     "output_type": "display_data"
    },
    {
     "name": "stdout",
     "output_type": "stream",
     "text": [
      "Epoch: 18, Training Loss:   0.3093\n",
      "           Validation Loss: 0.3001\n",
      "New best model saved to: interactionnetwork_best.pth\n"
     ]
    },
    {
     "data": {
      "application/vnd.jupyter.widget-view+json": {
       "model_id": "",
       "version_major": 2,
       "version_minor": 0
      },
      "text/plain": [
       "  0%|          | 0/50.0 [00:00<?, ?it/s]"
      ]
     },
     "metadata": {},
     "output_type": "display_data"
    },
    {
     "data": {
      "application/vnd.jupyter.widget-view+json": {
       "model_id": "",
       "version_major": 2,
       "version_minor": 0
      },
      "text/plain": [
       "  0%|          | 0/50.0 [00:00<?, ?it/s]"
      ]
     },
     "metadata": {},
     "output_type": "display_data"
    },
    {
     "name": "stdout",
     "output_type": "stream",
     "text": [
      "Epoch: 19, Training Loss:   0.3050\n",
      "           Validation Loss: 0.3014\n",
      "Stale epoch\n"
     ]
    },
    {
     "data": {
      "application/vnd.jupyter.widget-view+json": {
       "model_id": "",
       "version_major": 2,
       "version_minor": 0
      },
      "text/plain": [
       "  0%|          | 0/50.0 [00:00<?, ?it/s]"
      ]
     },
     "metadata": {},
     "output_type": "display_data"
    },
    {
     "data": {
      "application/vnd.jupyter.widget-view+json": {
       "model_id": "",
       "version_major": 2,
       "version_minor": 0
      },
      "text/plain": [
       "  0%|          | 0/50.0 [00:00<?, ?it/s]"
      ]
     },
     "metadata": {},
     "output_type": "display_data"
    },
    {
     "name": "stdout",
     "output_type": "stream",
     "text": [
      "Epoch: 20, Training Loss:   0.2984\n",
      "           Validation Loss: 0.3351\n",
      "Stale epoch\n"
     ]
    },
    {
     "data": {
      "application/vnd.jupyter.widget-view+json": {
       "model_id": "",
       "version_major": 2,
       "version_minor": 0
      },
      "text/plain": [
       "  0%|          | 0/50.0 [00:00<?, ?it/s]"
      ]
     },
     "metadata": {},
     "output_type": "display_data"
    },
    {
     "data": {
      "application/vnd.jupyter.widget-view+json": {
       "model_id": "",
       "version_major": 2,
       "version_minor": 0
      },
      "text/plain": [
       "  0%|          | 0/50.0 [00:00<?, ?it/s]"
      ]
     },
     "metadata": {},
     "output_type": "display_data"
    },
    {
     "name": "stdout",
     "output_type": "stream",
     "text": [
      "Epoch: 21, Training Loss:   0.3151\n",
      "           Validation Loss: 0.3019\n",
      "Stale epoch\n"
     ]
    },
    {
     "data": {
      "application/vnd.jupyter.widget-view+json": {
       "model_id": "",
       "version_major": 2,
       "version_minor": 0
      },
      "text/plain": [
       "  0%|          | 0/50.0 [00:00<?, ?it/s]"
      ]
     },
     "metadata": {},
     "output_type": "display_data"
    },
    {
     "data": {
      "application/vnd.jupyter.widget-view+json": {
       "model_id": "",
       "version_major": 2,
       "version_minor": 0
      },
      "text/plain": [
       "  0%|          | 0/50.0 [00:00<?, ?it/s]"
      ]
     },
     "metadata": {},
     "output_type": "display_data"
    },
    {
     "name": "stdout",
     "output_type": "stream",
     "text": [
      "Epoch: 22, Training Loss:   0.3051\n",
      "           Validation Loss: 0.2995\n",
      "New best model saved to: interactionnetwork_best.pth\n"
     ]
    },
    {
     "data": {
      "application/vnd.jupyter.widget-view+json": {
       "model_id": "",
       "version_major": 2,
       "version_minor": 0
      },
      "text/plain": [
       "  0%|          | 0/50.0 [00:00<?, ?it/s]"
      ]
     },
     "metadata": {},
     "output_type": "display_data"
    },
    {
     "data": {
      "application/vnd.jupyter.widget-view+json": {
       "model_id": "",
       "version_major": 2,
       "version_minor": 0
      },
      "text/plain": [
       "  0%|          | 0/50.0 [00:00<?, ?it/s]"
      ]
     },
     "metadata": {},
     "output_type": "display_data"
    },
    {
     "name": "stdout",
     "output_type": "stream",
     "text": [
      "Epoch: 23, Training Loss:   0.2945\n",
      "           Validation Loss: 0.2865\n",
      "New best model saved to: interactionnetwork_best.pth\n"
     ]
    },
    {
     "data": {
      "application/vnd.jupyter.widget-view+json": {
       "model_id": "",
       "version_major": 2,
       "version_minor": 0
      },
      "text/plain": [
       "  0%|          | 0/50.0 [00:00<?, ?it/s]"
      ]
     },
     "metadata": {},
     "output_type": "display_data"
    },
    {
     "data": {
      "application/vnd.jupyter.widget-view+json": {
       "model_id": "",
       "version_major": 2,
       "version_minor": 0
      },
      "text/plain": [
       "  0%|          | 0/50.0 [00:00<?, ?it/s]"
      ]
     },
     "metadata": {},
     "output_type": "display_data"
    },
    {
     "name": "stdout",
     "output_type": "stream",
     "text": [
      "Epoch: 24, Training Loss:   0.3017\n",
      "           Validation Loss: 0.2999\n",
      "Stale epoch\n"
     ]
    },
    {
     "data": {
      "application/vnd.jupyter.widget-view+json": {
       "model_id": "",
       "version_major": 2,
       "version_minor": 0
      },
      "text/plain": [
       "  0%|          | 0/50.0 [00:00<?, ?it/s]"
      ]
     },
     "metadata": {},
     "output_type": "display_data"
    },
    {
     "data": {
      "application/vnd.jupyter.widget-view+json": {
       "model_id": "",
       "version_major": 2,
       "version_minor": 0
      },
      "text/plain": [
       "  0%|          | 0/50.0 [00:00<?, ?it/s]"
      ]
     },
     "metadata": {},
     "output_type": "display_data"
    },
    {
     "name": "stdout",
     "output_type": "stream",
     "text": [
      "Epoch: 25, Training Loss:   0.3033\n",
      "           Validation Loss: 0.2975\n",
      "Stale epoch\n"
     ]
    },
    {
     "data": {
      "application/vnd.jupyter.widget-view+json": {
       "model_id": "",
       "version_major": 2,
       "version_minor": 0
      },
      "text/plain": [
       "  0%|          | 0/50.0 [00:00<?, ?it/s]"
      ]
     },
     "metadata": {},
     "output_type": "display_data"
    },
    {
     "data": {
      "application/vnd.jupyter.widget-view+json": {
       "model_id": "",
       "version_major": 2,
       "version_minor": 0
      },
      "text/plain": [
       "  0%|          | 0/50.0 [00:00<?, ?it/s]"
      ]
     },
     "metadata": {},
     "output_type": "display_data"
    },
    {
     "name": "stdout",
     "output_type": "stream",
     "text": [
      "Epoch: 26, Training Loss:   0.3000\n",
      "           Validation Loss: 0.3017\n",
      "Stale epoch\n"
     ]
    },
    {
     "data": {
      "application/vnd.jupyter.widget-view+json": {
       "model_id": "",
       "version_major": 2,
       "version_minor": 0
      },
      "text/plain": [
       "  0%|          | 0/50.0 [00:00<?, ?it/s]"
      ]
     },
     "metadata": {},
     "output_type": "display_data"
    },
    {
     "data": {
      "application/vnd.jupyter.widget-view+json": {
       "model_id": "",
       "version_major": 2,
       "version_minor": 0
      },
      "text/plain": [
       "  0%|          | 0/50.0 [00:00<?, ?it/s]"
      ]
     },
     "metadata": {},
     "output_type": "display_data"
    },
    {
     "name": "stdout",
     "output_type": "stream",
     "text": [
      "Epoch: 27, Training Loss:   0.3027\n",
      "           Validation Loss: 0.2959\n",
      "Stale epoch\n"
     ]
    },
    {
     "data": {
      "application/vnd.jupyter.widget-view+json": {
       "model_id": "",
       "version_major": 2,
       "version_minor": 0
      },
      "text/plain": [
       "  0%|          | 0/50.0 [00:00<?, ?it/s]"
      ]
     },
     "metadata": {},
     "output_type": "display_data"
    },
    {
     "data": {
      "application/vnd.jupyter.widget-view+json": {
       "model_id": "",
       "version_major": 2,
       "version_minor": 0
      },
      "text/plain": [
       "  0%|          | 0/50.0 [00:00<?, ?it/s]"
      ]
     },
     "metadata": {},
     "output_type": "display_data"
    },
    {
     "name": "stdout",
     "output_type": "stream",
     "text": [
      "Epoch: 28, Training Loss:   0.2964\n",
      "           Validation Loss: 0.2949\n",
      "Stale epoch\n",
      "Early stopping after 5 stale epochs\n"
     ]
    }
   ],
   "source": [
    "n_epochs = 100\n",
    "stale_epochs = 0\n",
    "best_valid_loss = 99999\n",
    "patience = 5\n",
    "t = tqdm(range(0, n_epochs))\n",
    "import os.path as osp\n",
    "\n",
    "for epoch in t:\n",
    "    loss = train(model, optimizer, loader, samples, batch_size,leave=bool(epoch==n_epochs-1))\n",
    "    valid_loss = test(model, loader, samples, batch_size,leave=bool(epoch==n_epochs-1))\n",
    "    print('Epoch: {:02d}, Training Loss:   {:.4f}'.format(epoch, loss))\n",
    "    print('           Validation Loss: {:.4f}'.format(valid_loss))\n",
    "\n",
    "    if valid_loss < best_valid_loss:\n",
    "        best_valid_loss = valid_loss\n",
    "        modpath = osp.join('interactionnetwork_best.pth')\n",
    "        print('New best model saved to:',modpath)\n",
    "        torch.save(model.state_dict(),modpath)\n",
    "        stale_epochs = 0\n",
    "    else:\n",
    "        print('Stale epoch')\n",
    "        stale_epochs += 1\n",
    "    if stale_epochs >= patience:\n",
    "        print('Early stopping after %i stale epochs'%patience)\n",
    "        break"
   ]
  },
  {
   "cell_type": "code",
   "execution_count": 10,
   "id": "paperback-offer",
   "metadata": {},
   "outputs": [
    {
     "data": {
      "application/vnd.jupyter.widget-view+json": {
       "model_id": "e32df21dca8a4c2080e964b8848691ae",
       "version_major": 2,
       "version_minor": 0
      },
      "text/plain": [
       "  0%|          | 0/50.0 [00:00<?, ?it/s]"
      ]
     },
     "metadata": {},
     "output_type": "display_data"
    }
   ],
   "source": [
    "import numpy as np\n",
    "t = tqdm(enumerate(loader),total=samples/batch_size)\n",
    "y_test = []\n",
    "y_predict = []\n",
    "for i,data in t:\n",
    "    data = data.to(device)    \n",
    "    batch_output = model(data.x, data.edge_index, data.edge_attr, data.batch)    \n",
    "    y_predict.append(batch_output.detach().cpu().numpy())\n",
    "    y_test.append(data.y.cpu().numpy())\n",
    "y_test = np.concatenate(y_test)\n",
    "y_predict = np.concatenate(y_predict)"
   ]
  },
  {
   "cell_type": "code",
   "execution_count": 11,
   "id": "presidential-plaza",
   "metadata": {},
   "outputs": [
    {
     "data": {
      "image/png": "[encoded data removed]",
      "text/plain": [
       "<Figure size 432x288 with 1 Axes>"
      ]
     },
     "metadata": {
      "needs_background": "light"
     },
     "output_type": "display_data"
    }
   ],
   "source": [
    "from sklearn.metrics import roc_curve, auc\n",
    "import matplotlib.pyplot as plt\n",
    "# create ROC curves\n",
    "fpr_gnn, tpr_gnn, threshold_gnn = roc_curve(y_test, y_predict)\n",
    "    \n",
    "# plot ROC curves\n",
    "plt.figure()\n",
    "plt.plot(fpr_gnn, tpr_gnn, lw=2.5, label=\"GNN, AUC = {:.1f}%\".format(auc(fpr_gnn,tpr_gnn)*100))\n",
    "plt.xlabel(r'False positive rate')\n",
    "plt.ylabel(r'True positive rate')\n",
    "plt.ylim(0,1)\n",
    "plt.xlim(0,1)\n",
    "plt.grid(True)\n",
    "plt.legend(loc='upper left')\n",
    "plt.show()"
   ]
  },
  {
   "cell_type": "code",
   "execution_count": null,
   "id": "stylish-awareness",
   "metadata": {},
   "outputs": [],
   "source": []
  }
 ],
 "metadata": {
  "kernelspec": {
   "display_name": "Python 3",
   "language": "python",
   "name": "python3"
  },
  "language_info": {
   "codemirror_mode": {
    "name": "ipython",
    "version": 3
   },
   "file_extension": ".py",
   "mimetype": "text/x-python",
   "name": "python",
   "nbconvert_exporter": "python",
   "pygments_lexer": "ipython3",
   "version": "3.6.12"
  }
 },
 "nbformat": 4,
 "nbformat_minor": 5
}
